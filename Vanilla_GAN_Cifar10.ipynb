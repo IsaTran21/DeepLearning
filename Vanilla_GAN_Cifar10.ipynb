{
  "nbformat": 4,
  "nbformat_minor": 0,
  "metadata": {
    "colab": {
      "private_outputs": true,
      "provenance": [],
      "machine_shape": "hm",
      "gpuType": "T4"
    },
    "kernelspec": {
      "name": "python3",
      "display_name": "Python 3"
    },
    "accelerator": "GPU"
  },
  "cells": [
    {
      "cell_type": "markdown",
      "metadata": {
        "id": "_gjTm28G2tC6"
      },
      "source": [
        "# VANILLA GAN"
      ]
    },
    {
      "cell_type": "markdown",
      "metadata": {
        "id": "aY6UksTg2y2D"
      },
      "source": [
        "## Imports libraries for the GAN model"
      ]
    },
    {
      "cell_type": "code",
      "metadata": {
        "id": "H06EKcnhxLcM"
      },
      "source": [
        "import tensorflow as tf\n",
        "import tensorflow.keras as keras\n",
        "import tensorflow_datasets as tfds\n",
        "import numpy as np\n",
        "import matplotlib.pyplot as plt\n",
        "from IPython import display\n",
        "import os\n",
        "from keras.optimizers import Adam\n",
        "from keras.models import Sequential\n",
        "from keras.layers import Dense\n",
        "from keras.layers import Reshape\n",
        "from keras.layers import Flatten\n",
        "from keras.layers import Conv2D\n",
        "from keras.layers import Conv2DTranspose\n",
        "from keras.layers import LeakyReLU\n",
        "from keras.layers import Dropout\n",
        "from numpy.random import randn\n",
        "from tensorflow.keras.callbacks import EarlyStopping"
      ],
      "execution_count": null,
      "outputs": []
    },
    {
      "cell_type": "code",
      "source": [
        "from google.colab import drive\n",
        "drive.mount('/content/drive')"
      ],
      "metadata": {
        "id": "iptces-oxWpX"
      },
      "execution_count": null,
      "outputs": []
    },
    {
      "cell_type": "code",
      "source": [
        "# Get the full dataset (batch_size=-1) in NumPy arrays from the returned tf.Tensor object\n",
        "cifar10_train = tfds.load(name=\"cifar10\", split=tfds.Split.TRAIN, batch_size=-1 )\n",
        "cifar10_test = tfds.load(name=\"cifar10\", split=tfds.Split.TEST, batch_size=-1)\n",
        "\n",
        "# Convert tfds dataset to numpy array records\n",
        "cifar10_train = tfds.as_numpy(cifar10_train)\n",
        "cifar10_test = tfds.as_numpy(cifar10_test)\n",
        "\n",
        "# Seperate feature X and label Y\n",
        "X_train, y_train = cifar10_train[\"image\"], cifar10_train[\"label\"]\n",
        "X_test, y_test = cifar10_test[\"image\"], cifar10_test[\"label\"]\n",
        "\n",
        "# Print shapes of the entire training and test set of CIFAR 10\n",
        "print(\"X_train shape: \" + str(X_train.shape))\n",
        "print(\"X_test shape: \" + str(X_test.shape))\n",
        "print(\"y_train shape: \" + str(y_train.shape))\n",
        "print(\"y_test shape: \" + str(y_test.shape))"
      ],
      "metadata": {
        "id": "F3_nm4hGMLpE"
      },
      "execution_count": null,
      "outputs": []
    },
    {
      "cell_type": "code",
      "source": [
        "# Get samples  of a certain label\n",
        "label = 0 # Class '1' is car. You may change this label to another class label.\n",
        "train_indices = np.where(y_train == label) # Get indices of the label\n",
        "train_set = X_train[train_indices] # Get train samples of the label\n",
        "test_indices = np.where(y_test == label) # Get indices of the label\n",
        "test_set = X_train[test_indices] # Get test samples of the label\n",
        "\n",
        "# Print shapes of datasets of the selected class\n",
        "print(\"train_set shape of the selected class: \" + str(train_set.shape))\n",
        "\n",
        "\n",
        "# NOTE: training a GAN does not require to have train/test split. All data samples of the training and the test set are used as real data samples.\n",
        "# You should merge the training and the test set to get more real data samples, i.e., merge the train_set and the test_set to one dataset which is the real dataset.\n",
        "# Merge the train and test sets\n",
        "airplane_train_images = np.concatenate((train_set, test_set), axis=0)\n",
        "airplane_train_images = airplane_train_images.astype(np.float32)\n",
        "airplane_train_images = (airplane_train_images - 127.5) / 127.5\n",
        "\n",
        "print(\"train_set shape of the selected class after merging: \" + str(airplane_train_images.shape))"
      ],
      "metadata": {
        "id": "BRH23rUlMSO_"
      },
      "execution_count": null,
      "outputs": []
    },
    {
      "cell_type": "code",
      "source": [
        "# Visualize some data samples of class '0' (plane)\n",
        "import matplotlib.pyplot as plt\n",
        "imgplot = plt.imshow(airplane_train_images[0])\n",
        "plt.show()\n",
        "imgplot = plt.imshow(airplane_train_images[1])\n",
        "plt.show()\n",
        "imgplot = plt.imshow(airplane_train_images[3])\n",
        "plt.show()\n",
        "imgplot = plt.imshow(airplane_train_images[4])\n",
        "plt.show()"
      ],
      "metadata": {
        "id": "4t2R1q4LMNAk"
      },
      "execution_count": null,
      "outputs": []
    },
    {
      "cell_type": "markdown",
      "metadata": {
        "id": "2RmpKRoe3LDw"
      },
      "source": [
        "Plotting fake images. This will be used to visualize sample outputs from the GAN while it is being trained."
      ]
    },
    {
      "cell_type": "code",
      "metadata": {
        "id": "91DeiLbpxv5_"
      },
      "source": [
        "def plot_multiple_images(images, n_cols=None):\n",
        "    '''visualizes fake images'''\n",
        "    display.clear_output(wait=False)\n",
        "    n_cols = n_cols or len(images)\n",
        "    n_rows = (len(images) - 1) // n_cols + 1\n",
        "\n",
        "    if images.shape[-1] == 1:\n",
        "        images = np.squeeze(images, axis=-1)\n",
        "\n",
        "    plt.figure(figsize=(n_cols, n_rows))\n",
        "\n",
        "    for index, image in enumerate(images):\n",
        "        plt.subplot(n_rows, n_cols, index + 1)\n",
        "        plt.imshow(image, cmap=\"binary\")\n",
        "        plt.axis(\"off\")"
      ],
      "execution_count": null,
      "outputs": []
    },
    {
      "cell_type": "markdown",
      "metadata": {
        "id": "a9fsJW9IBuMG"
      },
      "source": [
        "Creating batches of the train images so it can be fed to the model while training."
      ]
    },
    {
      "cell_type": "code",
      "metadata": {
        "id": "DK_wgrR0xAan"
      },
      "source": [
        "BATCH_SIZE = 128\n",
        "\n",
        "dataset = tf.data.Dataset.from_tensor_slices(airplane_train_images).shuffle(1000)\n",
        "dataset = dataset.batch(BATCH_SIZE, drop_remainder=True).prefetch(1)"
      ],
      "execution_count": null,
      "outputs": []
    },
    {
      "cell_type": "markdown",
      "metadata": {
        "id": "aS98MeLs3eu-"
      },
      "source": [
        "## Build the Model\n",
        "\n",
        "Creating the two main parts of the GAN:\n",
        "* generator - creates the fake data\n",
        "* discriminator - determines if an image is fake or real"
      ]
    },
    {
      "cell_type": "markdown",
      "metadata": {
        "id": "l1vx-poh9BZp"
      },
      "source": [
        "### Discriminator\n",
        "\n",
        "The discriminator takes in the input (fake or real) images and determines if it is fake or not. Thus, the input shape will be that of the training images."
      ]
    },
    {
      "cell_type": "code",
      "metadata": {
        "id": "cxnRLKojwkmG"
      },
      "source": [
        "def discriminator_nn(in_shape=(32,32,3)):\n",
        "\tmodel = Sequential()\n",
        "\n",
        "\tmodel.add(Conv2D(128, (3,3), strides=(2,2), padding='same', input_shape=in_shape)) #16x16x128\n",
        "\tmodel.add(LeakyReLU(alpha=0.2))\n",
        "\n",
        "\tmodel.add(Conv2D(128, (3,3), strides=(2,2), padding='same')) #8x8x128\n",
        "\tmodel.add(LeakyReLU(alpha=0.2))\n",
        "\n",
        "\tmodel.add(Flatten()) #shape of 8192\n",
        "\tmodel.add(Dropout(0.4))\n",
        "\tmodel.add(Dense(1, activation='sigmoid')) #shape of 1\n",
        "\t# compile model\n",
        "\topt = Adam(lr=0.0002, beta_1=0.5)\n",
        "\tmodel.compile(loss='binary_crossentropy', optimizer=opt, metrics=['accuracy'])\n",
        "\treturn model\n",
        "\n",
        "discriminator = discriminator_nn()\n",
        "print(discriminator.summary())"
      ],
      "execution_count": null,
      "outputs": []
    },
    {
      "cell_type": "markdown",
      "source": [
        "### Generator\n",
        "\n",
        "The generator takes in random noise and uses it to create fake images."
      ],
      "metadata": {
        "id": "5a1wbfWPzaUZ"
      }
    },
    {
      "cell_type": "code",
      "source": [
        "def define_generator(latent_dim):    #latent_dim is the dimension of the latent vector (e.g., 100)\n",
        "\tmodel = Sequential()\n",
        "\t# We will reshape input latent vector into 8x8 image as a starting point.\n",
        "  #So n_nodes for the Dense layer can be 128x8x8 so when we reshape the output\n",
        "  #it would be 8x8x128 and that can be slowly upscaled to 32x32 image for output.\n",
        "\tn_nodes = 128 * 8 * 8  #8192 nodes\n",
        "\tmodel.add(Dense(n_nodes, input_dim=latent_dim)) #Dense layer so we can work with 1D latent vector\n",
        "\tmodel.add(LeakyReLU(alpha=0.2))\n",
        "\tmodel.add(Reshape((8, 8, 128)))  #8x8x128 dataset from the latent vector.\n",
        "\t# upsample to 16x16\n",
        "\tmodel.add(Conv2DTranspose(128, (4,4), strides=(2,2), padding='same')) #16x16x128\n",
        "\tmodel.add(LeakyReLU(alpha=0.2))\n",
        "\t# upsample to 32x32\n",
        "\tmodel.add(Conv2DTranspose(128, (4,4), strides=(2,2), padding='same')) #32x32x128\n",
        "\tmodel.add(LeakyReLU(alpha=0.2))\n",
        "\t# generate\n",
        "\tmodel.add(Conv2D(3, (8,8), activation='tanh', padding='same')) #32x32x3\n",
        "\treturn model  #Model not compiled as it is not directly trained like the discriminator.\n",
        "                    #Generator is trained via GAN combined model.\n",
        "\n",
        "latent_dim =  100\n",
        "generator = define_generator(latent_dim)\n",
        "print(generator.summary())"
      ],
      "metadata": {
        "id": "le1IT1tIvLI5"
      },
      "execution_count": null,
      "outputs": []
    },
    {
      "cell_type": "markdown",
      "metadata": {
        "id": "3Xs3vARf08Vx"
      },
      "source": [
        "Sampling output of an untrained generator. This will be just random points. After training, these will resemble digits from the dataset"
      ]
    },
    {
      "cell_type": "code",
      "metadata": {
        "id": "mjk8x15gz_S2"
      },
      "source": [
        "# generate n_samples number of latent vectors as input for the generator\n",
        "def generate_latent_points(latent_dim, n_samples):\n",
        "\t# generate points in the latent space\n",
        "\tx_input = randn(latent_dim * n_samples)\n",
        "\t# reshape into a batch of inputs for the network\n",
        "\tx_input = x_input.reshape(n_samples, latent_dim)\n",
        "\treturn x_input\n",
        "\n",
        "# generate points in latent space as input for the generator\n",
        "latent_points = generate_latent_points(latent_dim, 32)\n",
        "\n",
        "# Generate a batch of noise input (batch size = 16)\n",
        "#test_noise = tf.random.normal([16, latent_dim])\n",
        "\n",
        "# Feed the batch to the untrained generator\n",
        "test_image = generator(latent_points)\n",
        "\n",
        "def plot_fake_images(fake_images, n_cols=4):\n",
        "    n_rows = (len(fake_images) - 1) // n_cols + 1\n",
        "    plt.figure(figsize=(n_cols * 3, n_rows * 3))\n",
        "    for index, image in enumerate(fake_images):\n",
        "        plt.subplot(n_rows, n_cols, index + 1)\n",
        "        # Rescale pixel values from [-1, 1] to [0, 1] for proper display\n",
        "        image = (image + 1) / 2\n",
        "        plt.imshow(image)\n",
        "        plt.axis(\"off\")\n",
        "    plt.show()\n",
        "plot_fake_images(test_image, n_cols=4)"
      ],
      "execution_count": null,
      "outputs": []
    },
    {
      "cell_type": "markdown",
      "metadata": {
        "id": "IMxfJA7R_7ls"
      },
      "source": [
        "Concatenate the two models"
      ]
    },
    {
      "cell_type": "code",
      "metadata": {
        "id": "G6HnpPN59Te2"
      },
      "source": [
        "gan = keras.models.Sequential([generator, discriminator])"
      ],
      "execution_count": null,
      "outputs": []
    },
    {
      "cell_type": "markdown",
      "metadata": {
        "id": "hf32S9uO3h6X"
      },
      "source": [
        "## Configure Training Parameters\n",
        "\n",
        "Preparing the models for training."
      ]
    },
    {
      "cell_type": "code",
      "metadata": {
        "id": "9lKpOq-Cw-r5"
      },
      "source": [
        "discriminator.compile(loss=\"binary_crossentropy\", optimizer=\"rmsprop\")\n",
        "discriminator.trainable = False\n",
        "gan.compile(loss=\"binary_crossentropy\", optimizer=\"rmsprop\")"
      ],
      "execution_count": null,
      "outputs": []
    },
    {
      "cell_type": "markdown",
      "metadata": {
        "id": "uVsJ5-VY3oCg"
      },
      "source": [
        "## Train the Model\n",
        "\n",
        "Defining the training loop.  This consists of two phases:\n",
        "\n",
        "* Phase 1 - trains the discriminator to distinguish between fake or real data\n",
        "* Phase 2 - trains the generator to generate images that will trick the discriminator\n",
        "\n",
        "At each epoch, displaying a sample gallery of images to see the fake images being created by the generator. The details of how these steps are carried out are shown in the code comments below."
      ]
    },
    {
      "cell_type": "code",
      "metadata": {
        "id": "fRt1ocLO2lx1"
      },
      "source": [
        "path = \"/content/drive/MyDrive/May_2024/Vanilla_3\"\n",
        "def train_gan(gan, dataset, random_normal_dimensions, n_epochs=50, patience=10):\n",
        "    \"\"\" Defines the two-phase training loop of the GAN\n",
        "    Args:\n",
        "      gan -- the GAN model which has the generator and discriminator\n",
        "      dataset -- the training set of real images\n",
        "      random_normal_dimensions -- dimensionality of the input to the generator\n",
        "      n_epochs -- number of epochs\n",
        "    \"\"\"\n",
        "    early_stopping = EarlyStopping(monitor='val_loss', patience=patience, verbose=1, restore_best_weights=True)\n",
        "\n",
        "    # get the two sub networks from the GAN model\n",
        "    generator, discriminator = gan.layers\n",
        "\n",
        "    # start loop\n",
        "    for epoch in range(n_epochs):\n",
        "        print(\"Epoch {}/{}\".format(epoch + 1, n_epochs))\n",
        "        for real_images in dataset:\n",
        "            # infer batch size from the training batch\n",
        "            batch_size = real_images.shape[0]\n",
        "\n",
        "            # Train the discriminator - PHASE 1\n",
        "            # Create the noise\n",
        "            noise = tf.random.normal(shape=[batch_size, latent_dim])\n",
        "\n",
        "            # Use the noise to generate fake images\n",
        "            fake_images = generator(noise)\n",
        "            #fake_images = (fake_images + 1) / 2  # Rescale pixel values from [-1, 1] to [0, 1]\n",
        "\n",
        "            # Create a list by concatenating the fake images with the real ones\n",
        "            mixed_images = tf.concat([fake_images, real_images], axis=0)\n",
        "\n",
        "            # Create the labels for the discriminator\n",
        "            # 0 for the fake images\n",
        "            # 1 for the real images\n",
        "            discriminator_labels = tf.constant([[0.]] * batch_size + [[1.]] * batch_size)\n",
        "\n",
        "            # Ensure that the discriminator is trainable\n",
        "            discriminator.trainable = True\n",
        "\n",
        "            # Use train_on_batch to train the discriminator with the mixed images and the discriminator labels\n",
        "            discriminator.train_on_batch(mixed_images, discriminator_labels)\n",
        "\n",
        "            # Train the generator - PHASE 2\n",
        "            # create a batch of noise input to feed to the GAN\n",
        "            noise = tf.random.normal(shape=[batch_size, latent_dim])\n",
        "\n",
        "            # label all generated images to be \"real\"\n",
        "            generator_labels = tf.constant([[1.]] * batch_size)\n",
        "\n",
        "            # Freeze the discriminator\n",
        "            discriminator.trainable = False\n",
        "\n",
        "            # Train the GAN on the noise with the labels all set to be true\n",
        "            gan.train_on_batch(noise, generator_labels)\n",
        "            # Plot and save generated images periodically\n",
        "        # Plot and save generated images\n",
        "        plot_and_save_images(generator, epoch + 1, path)\n",
        "        if (epoch + 1) % 5 == 0:\n",
        "            plot_and_save_images(generator, epoch + 1, path)\n",
        "        # Evaluate early stopping\n",
        "        if epoch > patience:\n",
        "            if early_stopping.stopped_epoch == 0:\n",
        "                if early_stopping.wait >= patience:\n",
        "                    print(\"Early stopping triggered.\")\n",
        "                    break\n",
        "\n",
        "def plot_and_save_images(generator, epoch, path):\n",
        "    noise = tf.random.normal(shape=[10, latent_dim])\n",
        "    generated_images = generator(noise)\n",
        "    generated_images = (generated_images + 1) / 2\n",
        "\n",
        "    fig, axes = plt.subplots(2, 5, figsize=(10, 4))\n",
        "    for i, ax in enumerate(axes.flat):\n",
        "        ax.imshow(generated_images[i])\n",
        "        ax.axis('off')\n",
        "    plt.tight_layout()\n",
        "    plt.savefig(os.path.join(path, f\"epoch_{epoch}.png\"))\n",
        "    plt.close(fig)\n"
      ],
      "execution_count": null,
      "outputs": []
    },
    {
      "cell_type": "code",
      "source": [
        "def train_gan(gan, dataset, random_normal_dimensions, n_epochs=50, patience=10):\n",
        "    \"\"\" Defines the two-phase training loop of the GAN\n",
        "    Args:\n",
        "      gan -- the GAN model which has the generator and discriminator\n",
        "      dataset -- the training set of real images\n",
        "      random_normal_dimensions -- dimensionality of the input to the generator\n",
        "      n_epochs -- number of epochs\n",
        "    \"\"\"\n",
        "    early_stopping = EarlyStopping(monitor='val_loss', patience=patience, verbose=1, restore_best_weights=True)\n",
        "\n",
        "    # get the two sub networks from the GAN model\n",
        "    generator, discriminator = gan.layers\n",
        "\n",
        "    discriminator_losses = []\n",
        "    generator_losses = []\n",
        "\n",
        "    # start loop\n",
        "    for epoch in range(n_epochs):\n",
        "        print(\"Epoch {}/{}\".format(epoch + 1, n_epochs))\n",
        "        d_loss_epoch = []\n",
        "        g_loss_epoch = []\n",
        "        for real_images in dataset:\n",
        "            # infer batch size from the training batch\n",
        "            batch_size = real_images.shape[0]\n",
        "\n",
        "            # Train the discriminator - PHASE 1\n",
        "            # Create the noise\n",
        "            noise = tf.random.normal(shape=[batch_size, random_normal_dimensions])\n",
        "\n",
        "            # Use the noise to generate fake images\n",
        "            fake_images = generator(noise)\n",
        "\n",
        "            # Create a list by concatenating the fake images with the real ones\n",
        "            mixed_images = tf.concat([fake_images, real_images], axis=0)\n",
        "\n",
        "            # Create the labels for the discriminator\n",
        "            # 0 for the fake images\n",
        "            # 1 for the real images\n",
        "            discriminator_labels = tf.constant([[0.]] * batch_size + [[1.]] * batch_size)\n",
        "\n",
        "            # Ensure that the discriminator is trainable\n",
        "            discriminator.trainable = True\n",
        "\n",
        "            # Use train_on_batch to train the discriminator with the mixed images and the discriminator labels\n",
        "            d_loss = discriminator.train_on_batch(mixed_images, discriminator_labels)\n",
        "            d_loss_epoch.append(d_loss)\n",
        "\n",
        "            # Train the generator - PHASE 2\n",
        "            # create a batch of noise input to feed to the GAN\n",
        "            noise = tf.random.normal(shape=[batch_size, random_normal_dimensions])\n",
        "\n",
        "            # label all generated images to be \"real\"\n",
        "            generator_labels = tf.constant([[1.]] * batch_size)\n",
        "\n",
        "            # Freeze the discriminator\n",
        "            discriminator.trainable = False\n",
        "\n",
        "            # Train the GAN on the noise with the labels all set to be true\n",
        "            g_loss = gan.train_on_batch(noise, generator_labels)\n",
        "            g_loss_epoch.append(g_loss)\n",
        "\n",
        "        discriminator_losses.append(np.mean(d_loss_epoch))\n",
        "        generator_losses.append(np.mean(g_loss_epoch))\n",
        "\n",
        "        # Plot and save generated images periodically\n",
        "        if (epoch + 1) % 5 == 0:\n",
        "            plot_and_save_images(generator, epoch + 1, path)\n",
        "\n",
        "        # Evaluate early stopping\n",
        "        if epoch > patience:\n",
        "            if early_stopping.stopped_epoch == 0:\n",
        "                if early_stopping.wait >= patience:\n",
        "                    print(\"Early stopping triggered.\")\n",
        "                    break\n",
        "\n",
        "        print(\"Discriminator Loss: {}, Generator Loss: {}\".format(discriminator_losses[-1], generator_losses[-1]))\n",
        "\n",
        "    return discriminator_losses, generator_losses\n",
        "\n",
        "def plot_and_save_images(generator, epoch, path):\n",
        "    noise = tf.random.normal(shape=[10, latent_dim])\n",
        "    generated_images = generator(noise)\n",
        "    generated_images = (generated_images + 1) / 2\n",
        "\n",
        "    fig, axes = plt.subplots(2, 5, figsize=(10, 4))\n",
        "    for i, ax in enumerate(axes.flat):\n",
        "        ax.imshow(generated_images[i])\n",
        "        ax.axis('off')\n",
        "    plt.tight_layout()\n",
        "    plt.savefig(os.path.join(path, f\"epoch_{epoch}.png\"))\n",
        "    plt.close(fig)\n"
      ],
      "metadata": {
        "id": "T6EGHz0GN_RM"
      },
      "execution_count": null,
      "outputs": []
    },
    {
      "cell_type": "code",
      "metadata": {
        "id": "r1lhjSj0xGL8"
      },
      "source": [
        "train_gan(gan, dataset, latent_dim, n_epochs=2000)"
      ],
      "execution_count": null,
      "outputs": []
    },
    {
      "cell_type": "markdown",
      "source": [
        "# The result\n",
        "This is the result, after training over 7000 epochs (aim 10000). The above training for evaluation with 2000 epochs (second training).\n",
        "https://drive.google.com/drive/folders/1L0CsplLl6NQKPb848X6niirgUva7mqYv?usp=drive_link"
      ],
      "metadata": {
        "id": "p-OFkPHw0YNo"
      }
    },
    {
      "cell_type": "markdown",
      "source": [
        "In epoch 7542\n",
        "![image.png](data:image/png;base64,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)"
      ],
      "metadata": {
        "id": "pRlV4aXPvoTN"
      }
    },
    {
      "cell_type": "code",
      "source": [
        "# Save the model\n",
        "#gan.set_weights(best_weights)\n",
        "gan.save(\"/content/drive/MyDrive/May_2024/Vanilla_3/gan_model.h5\")"
      ],
      "metadata": {
        "id": "ZFhT8U9h-ScP"
      },
      "execution_count": null,
      "outputs": []
    },
    {
      "cell_type": "code",
      "source": [
        "# The number of images to generate\n",
        "num_images = 5\n",
        "\n",
        "# Generate random noise\n",
        "noise = np.random.normal(0, 1, (num_images, 100))\n",
        "\n",
        "# Generate images using the generator\n",
        "generated_images = generator.predict(noise)\n",
        "\n",
        "# Visualize the generated images\n",
        "fig, axes = plt.subplots(1, num_images, figsize=(10, 2))\n",
        "for i in range(num_images):\n",
        "    axes[i].imshow(generated_images[i])\n",
        "    axes[i].axis('off')\n",
        "plt.show()"
      ],
      "metadata": {
        "id": "qvtvGehvMx-H"
      },
      "execution_count": null,
      "outputs": []
    }
  ]
}